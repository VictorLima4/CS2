{
 "cells": [
  {
   "cell_type": "code",
   "execution_count": 2,
   "id": "0d82db23",
   "metadata": {},
   "outputs": [],
   "source": [
    "# Imports\n",
    "import pandas as pd\n",
    "import numpy as np\n",
    "import polars as pl\n",
    "import os\n",
    "import awpy\n",
    "from demoparser2 import DemoParser\n",
    "from awpy import Demo\n",
    "from pathlib import Path\n",
    "from awpy.stats import adr\n",
    "from awpy.stats import kast\n",
    "from awpy.stats import rating\n",
    "from awpy.stats import calculate_trades\n",
    "\n",
    "folder_path = r'C:\\Users\\bayli\\Documents\\CS Demos\\All_IEM_Katowice_2025\\IEM_Katowice_2025'\n",
    "file_path = r'C:\\Users\\bayli\\Documents\\Git Projects\\test_demos\\natus-vincere-vs-faze-m1-inferno.dem'\n",
    "\n",
    "# Creating DataFrames\n",
    "df_flashes = pd.DataFrame()\n",
    "df_he = pd.DataFrame()\n",
    "df_infernos = pd.DataFrame()\n",
    "df_smoke = pd.DataFrame()\n",
    "df_kills = pd.DataFrame()\n",
    "df_rounds = pd.DataFrame()\n",
    "df_all_first_kills = pd.DataFrame()\n",
    "df_adr = pd.DataFrame()\n",
    "df_kast = pd.DataFrame()\n",
    "team_rounds_won = pd.DataFrame()\n",
    "players_id = pd.DataFrame()\n",
    "i = 1"
   ]
  },
  {
   "cell_type": "code",
   "execution_count": null,
   "id": "5f603408",
   "metadata": {},
   "outputs": [],
   "source": [
    "dem = Demo(file_path)\n",
    "dem.parse(player_props=[\"team_clan_name\",\"total_rounds_played\"])"
   ]
  },
  {
   "cell_type": "code",
   "execution_count": 4,
   "id": "735ead32",
   "metadata": {},
   "outputs": [],
   "source": [
    "player_hurt = dem.events.get('player_hurt', pl.DataFrame())\n",
    "if player_hurt is not None and len(player_hurt) > 0:\n",
    "    player_hurt = pd.concat([df_flashes, player_hurt.to_pandas()], ignore_index=True)"
   ]
  },
  {
   "cell_type": "code",
   "execution_count": 6,
   "id": "76387158",
   "metadata": {},
   "outputs": [],
   "source": [
    "util_dmg = player_hurt[(player_hurt[\"weapon\"] == \"hegrenade\") | (player_hurt[\"weapon\"] == \"molotov\") | (player_hurt[\"weapon\"] == \"inferno\")]"
   ]
  },
  {
   "cell_type": "code",
   "execution_count": 7,
   "id": "fdd4c3fb",
   "metadata": {},
   "outputs": [],
   "source": [
    "util_dmg.to_csv('util_dmg.csv')"
   ]
  },
  {
   "cell_type": "code",
   "execution_count": null,
   "id": "993b07cf",
   "metadata": {},
   "outputs": [],
   "source": [
    "util_dmg.loc[:, \"total_dmg\"] = util_dmg[\"dmg_armor\"] + util_dmg[\"dmg_health\"]\n",
    "\n",
    "agg_dmg = util_dmg.groupby(\"attacker_steamid\").agg(\n",
    "    total_dmg=(\"total_dmg\", \"sum\"),\n",
    "    ct_total_dmg=(\"total_dmg\", lambda x: x[util_dmg.loc[x.index, \"attacker_side\"] == \"ct\"].sum()),\n",
    "    t_total_dmg=(\"total_dmg\", lambda x: x[util_dmg.loc[x.index, \"attacker_side\"] == \"t\"].sum())\n",
    ").reset_index()\n",
    "\n",
    "agg_dmg"
   ]
  }
 ],
 "metadata": {
  "kernelspec": {
   "display_name": "Python 3",
   "language": "python",
   "name": "python3"
  },
  "language_info": {
   "codemirror_mode": {
    "name": "ipython",
    "version": 3
   },
   "file_extension": ".py",
   "mimetype": "text/x-python",
   "name": "python",
   "nbconvert_exporter": "python",
   "pygments_lexer": "ipython3",
   "version": "3.12.9"
  }
 },
 "nbformat": 4,
 "nbformat_minor": 5
}
