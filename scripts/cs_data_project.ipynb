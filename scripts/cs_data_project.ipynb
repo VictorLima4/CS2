{
 "cells": [
  {
   "cell_type": "code",
   "execution_count": 2,
   "metadata": {},
   "outputs": [],
   "source": [
    "# Imports\n",
    "import pandas as pd\n",
    "import numpy as np\n",
    "import os"
   ]
  },
  {
   "cell_type": "code",
   "execution_count": null,
   "metadata": {},
   "outputs": [],
   "source": [
    "folder_path = r'C:\\Users\\bayli\\Documents\\Git Projects\\CS2\\xlsx_exports'\n",
    "sheet_data = {}\n",
    "all_first_kills = pd.DataFrame()\n",
    "\n",
    "for file_name in os.listdir(folder_path):\n",
    "    if file_name.endswith('.xlsx'):\n",
    "        file_path = os.path.join(folder_path, file_name)\n",
    "\n",
    "        excel_data = pd.read_excel(file_path, sheet_name=None)\n",
    "\n",
    "        for sheet_name, df in excel_data.items():\n",
    "            if 'Kills' in df:\n",
    "                df_Kills = df\n",
    "                first_kills = df_Kills.sort_values(by=['round_number', 'tick'])\n",
    "                first_kills = first_kills.groupby('round_number').first().reset_index()\n",
    "                all_first_kills = pd.concat([all_first_kills, first_kills], ignore_index=True)\n",
    "            if sheet_name in sheet_data:\n",
    "                sheet_data[sheet_name] = pd.concat([sheet_data[sheet_name], df], ignore_index=True)\n",
    "            else:\n",
    "                sheet_data[sheet_name] = df"
   ]
  },
  {
   "cell_type": "code",
   "execution_count": 4,
   "metadata": {},
   "outputs": [],
   "source": [
    "df_General = sheet_data['General']\n",
    "df_Rounds = sheet_data['Rounds']\n",
    "df_Players = sheet_data['Players']\n",
    "df_Kills = sheet_data['Kills']\n",
    "df_Weapons = sheet_data['Weapons']\n",
    "df_PFM = sheet_data['Players Flashbang matrix']\n",
    "df_Clutches = sheet_data['Clutches']\n",
    "\n",
    "df_Players = df_Players.drop('color', axis=1)"
   ]
  },
  {
   "cell_type": "code",
   "execution_count": 5,
   "metadata": {},
   "outputs": [],
   "source": [
    "team_rounds_won = df_Rounds.groupby('winner_name').agg(\n",
    "    total_rounds_won=('winner_name', 'size'),\n",
    "    t_rounds_won=('winner_side', lambda x: (x == 2).sum()),\n",
    "    ct_rounds_won=('winner_side', lambda x: (x == 3).sum())\n",
    ").reset_index()\n",
    "\n",
    "team_rounds_won.columns = ['team_name', 'total_rounds_won','t_rounds_won', 'ct_rounds_won']"
   ]
  },
  {
   "cell_type": "code",
   "execution_count": 6,
   "metadata": {},
   "outputs": [],
   "source": [
    "player_kills = df_Kills.groupby('killer_steam_id').agg(\n",
    "    kills=('killer_steam_id', 'size'),\n",
    "    headshots=('is_headshot', 'sum'),\n",
    "    wallbang_kills=('penetrated_objects', 'sum'),\n",
    "    assisted_flashes=('is_assisted_flash', 'sum'),\n",
    "    trade_kills=('is_trade_kill', 'sum'),\n",
    "    trade_deaths=('is_trade_death', 'sum'),\n",
    "    no_scope=('is_no_scope', 'sum'),\n",
    "    through_smoke=('is_through_smoke', 'sum'),\n",
    "    airbone_kills=('is_killer_airbone', 'sum'),\n",
    "    airbone_victim_kills=('is_victim_airbone', 'sum'),\n",
    "    blind_kills=('is_killer_blinded', 'sum'),\n",
    "    victim_blind_kills=('is_victim_blinded', 'sum'),\n",
    ").reset_index()\n"
   ]
  },
  {
   "cell_type": "code",
   "execution_count": 7,
   "metadata": {},
   "outputs": [],
   "source": [
    "player_kills.rename(columns={'killer_steam_id': 'steam_id'}, inplace=True)"
   ]
  },
  {
   "cell_type": "code",
   "execution_count": null,
   "metadata": {},
   "outputs": [],
   "source": [
    "player_kills"
   ]
  },
  {
   "cell_type": "code",
   "execution_count": 9,
   "metadata": {},
   "outputs": [],
   "source": [
    "df_Players_1 = df_Players.groupby('steam_id', as_index=False).agg({'name': 'first',\n",
    "    'team_name': 'first',\n",
    "    'kill_count': 'sum', \n",
    "    'assist_count': 'sum',\n",
    "    'kd':'mean',\n",
    "    'mvp':'sum',\n",
    "    'HLTV':'mean',\n",
    "    'HLTV 2.0':'mean',\n",
    "    'kast':'mean',\n",
    "    'death_count': 'sum',\n",
    "    'headshot_count': 'sum',\n",
    "    'first_kill_count': 'sum',\n",
    "    'first_death_count': 'sum',\n",
    "    'bomb_defused_count': 'sum',\n",
    "    'bomb_planted_count': 'sum',\n",
    "    '1v1': 'sum',\n",
    "    '1v2': 'sum',\n",
    "    '1v3': 'sum',\n",
    "    '1v4': 'sum',\n",
    "    '1v5': 'sum',\n",
    "    '1v1_won': 'sum',\n",
    "    '1v2_won': 'sum',\n",
    "    '1v3_won': 'sum',\n",
    "    '1v4_won': 'sum',\n",
    "    '1v5_won': 'sum',\n",
    "    '1v2_lost': 'sum',\n",
    "    '1v3_lost': 'sum',\n",
    "    '1v4_lost': 'sum',\n",
    "    '1v5_lost': 'sum',\n",
    "    })"
   ]
  },
  {
   "cell_type": "code",
   "execution_count": 10,
   "metadata": {},
   "outputs": [],
   "source": [
    "df_Players_1 = df_Players_1.merge(team_rounds_won, on='team_name', how='left')\n",
    "df_Players_1 = df_Players_1.merge(player_kills, on='steam_id', how='left')"
   ]
  },
  {
   "cell_type": "code",
   "execution_count": 11,
   "metadata": {},
   "outputs": [],
   "source": [
    "df_Players_1.to_csv('players.csv')"
   ]
  }
 ],
 "metadata": {
  "kernelspec": {
   "display_name": "Python 3",
   "language": "python",
   "name": "python3"
  },
  "language_info": {
   "codemirror_mode": {
    "name": "ipython",
    "version": 3
   },
   "file_extension": ".py",
   "mimetype": "text/x-python",
   "name": "python",
   "nbconvert_exporter": "python",
   "pygments_lexer": "ipython3",
   "version": "3.10.4"
  }
 },
 "nbformat": 4,
 "nbformat_minor": 2
}
