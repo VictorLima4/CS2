{
 "cells": [
  {
   "cell_type": "code",
   "execution_count": 2,
   "id": "56817fff",
   "metadata": {},
   "outputs": [],
   "source": [
    "import awpy.data\n",
    "import awpy.nav\n",
    "import awpy.plot.nav"
   ]
  },
  {
   "cell_type": "code",
   "execution_count": null,
   "id": "375cc192",
   "metadata": {},
   "outputs": [],
   "source": [
    "path_to_nav_file = awpy.data.NAVS_DIR / \"de_inferno.json\"\n",
    "inferno_nav = awpy.nav.Nav.from_json(path=path_to_nav_file)\n",
    "inferno_nav"
   ]
  },
  {
   "cell_type": "code",
   "execution_count": null,
   "id": "e88b252a",
   "metadata": {},
   "outputs": [],
   "source": [
    "print(inferno_nav.areas[1429])\n",
    "print(' ')\n",
    "print((inferno_nav.areas[1429].to_dict()))"
   ]
  },
  {
   "cell_type": "code",
   "execution_count": null,
   "id": "a5ed6f79",
   "metadata": {},
   "outputs": [],
   "source": [
    "viz_map_name = \"de_inferno\"\n",
    "tiles_to_visualize = [1429]\n",
    "\n",
    "awpy.plot.nav.plot_map_tiles_selected(map_name=viz_map_name, selected_tiles=tiles_to_visualize)"
   ]
  },
  {
   "cell_type": "code",
   "execution_count": null,
   "id": "9832c51d",
   "metadata": {},
   "outputs": [],
   "source": [
    "tile_path = inferno_nav.find_path(1220, 1430)\n",
    "print(f\"Total length of found path is {len(tile_path)} tiles\")\n",
    "print(f\"First tile in path has id {tile_path[0].area_id} and the last tile in path has id {tile_path[-1].area_id}\")"
   ]
  },
  {
   "cell_type": "code",
   "execution_count": null,
   "id": "ccf948ad",
   "metadata": {},
   "outputs": [],
   "source": [
    "tile_path = inferno_nav.find_path(1220, 1429)\n",
    "tile_path_ids = [tile.area_id for tile in tile_path]\n",
    "viz_map_name = 'de_inferno'\n",
    "\n",
    "awpy.plot.nav.plot_map_tiles_selected(map_name=viz_map_name, selected_tiles=tile_path_ids)"
   ]
  }
 ],
 "metadata": {
  "kernelspec": {
   "display_name": "Python 3",
   "language": "python",
   "name": "python3"
  },
  "language_info": {
   "codemirror_mode": {
    "name": "ipython",
    "version": 3
   },
   "file_extension": ".py",
   "mimetype": "text/x-python",
   "name": "python",
   "nbconvert_exporter": "python",
   "pygments_lexer": "ipython3",
   "version": "3.12.9"
  }
 },
 "nbformat": 4,
 "nbformat_minor": 5
}
