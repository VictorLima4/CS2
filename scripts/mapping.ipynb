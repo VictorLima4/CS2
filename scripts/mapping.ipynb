{
 "cells": [
  {
   "cell_type": "code",
   "execution_count": null,
   "metadata": {},
   "outputs": [],
   "source": [
    "# Imports\n",
    "import pandas as pd\n",
    "import numpy as np\n",
    "import os\n",
    "import zipfile\n",
    "from awpy import Demo\n",
    "import awpy.plot\n",
    "import awpy.demo\n",
    "import awpy.stats\n",
    "import awpy as awpy"
   ]
  },
  {
   "cell_type": "code",
   "execution_count": null,
   "metadata": {},
   "outputs": [],
   "source": [
    "folder_path = r'C:\\Users\\bayli\\Documents\\Git Projects\\CS2_Project\\test_demos'\n",
    "\n",
    "df_flashes = pd.DataFrame()\n",
    "df_he = pd.DataFrame()\n",
    "df_infernos = pd.DataFrame()\n",
    "df_smoke = pd.DataFrame()"
   ]
  },
  {
   "cell_type": "code",
   "execution_count": null,
   "metadata": {},
   "outputs": [],
   "source": [
    "file_path = r'C:\\Users\\bayli\\Documents\\Git Projects\\CS2_Project\\test_demos\\natus-vincere-vs-faze-m1-inferno.dem'\n",
    "dem = Demo(file_path)"
   ]
  },
  {
   "cell_type": "code",
   "execution_count": null,
   "metadata": {},
   "outputs": [],
   "source": [
    "df_smokes = dem.events['smokegrenade_detonate']\n",
    "#df_smokes.to_csv('df_smokes.csv')"
   ]
  },
  {
   "cell_type": "code",
   "execution_count": null,
   "metadata": {},
   "outputs": [],
   "source": [
    "df_smokes_pos = df_smokes[['x', 'y', 'z', 'user_name']]\n",
    "smokes_pos = df_smokes_pos.values.tolist()"
   ]
  },
  {
   "cell_type": "code",
   "execution_count": null,
   "metadata": {},
   "outputs": [],
   "source": [
    "awpy.plot.heatmap('de_inferno',\n",
    "                  smokes_pos,\n",
    "                  'hist',\n",
    "                  size=20)"
   ]
  },
  {
   "cell_type": "code",
   "execution_count": null,
   "metadata": {},
   "outputs": [],
   "source": [
    "user_name = 's1mple'"
   ]
  }
 ],
 "metadata": {
  "kernelspec": {
   "display_name": "Python 3",
   "language": "python",
   "name": "python3"
  },
  "language_info": {
   "codemirror_mode": {
    "name": "ipython",
    "version": 3
   },
   "file_extension": ".py",
   "mimetype": "text/x-python",
   "name": "python",
   "nbconvert_exporter": "python",
   "pygments_lexer": "ipython3",
   "version": "3.10.4"
  }
 },
 "nbformat": 4,
 "nbformat_minor": 2
}
