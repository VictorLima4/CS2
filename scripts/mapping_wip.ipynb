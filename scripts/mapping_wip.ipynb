{
 "cells": [
  {
   "cell_type": "code",
   "execution_count": null,
   "metadata": {},
   "outputs": [],
   "source": [
    "# Imports\n",
    "import pandas as pd\n",
    "import polars as pl\n",
    "import os\n",
    "from awpy import Demo\n",
    "from awpy.plot import gif, PLOT_SETTINGS\n",
    "from tqdm import tqdm"
   ]
  },
  {
   "cell_type": "code",
   "execution_count": 6,
   "metadata": {},
   "outputs": [],
   "source": [
    "folder_path = r'C:\\Users\\bayli\\Documents\\Git Projects\\test_demos'\n",
    "\n",
    "df_flashes = pd.DataFrame()\n",
    "df_he = pd.DataFrame()\n",
    "df_infernos = pd.DataFrame()\n",
    "df_smoke = pd.DataFrame()"
   ]
  },
  {
   "cell_type": "code",
   "execution_count": 7,
   "metadata": {},
   "outputs": [],
   "source": [
    "file_path = r'C:\\Users\\bayli\\Documents\\Git Projects\\test_demos\\natus-vincere-vs-faze-m1-inferno.dem'\n",
    "dem = Demo(file_path)\n",
    "dem.parse(player_props=[\"X\", \"Y\", \"Z\", \"health\", \"armor_value\", \"pitch\", \"yaw\", \"side\", \"name\"])\n"
   ]
  },
  {
   "cell_type": "code",
   "execution_count": 11,
   "metadata": {},
   "outputs": [
    {
     "name": "stderr",
     "output_type": "stream",
     "text": [
      "100%|██████████| 246/246 [00:00<00:00, 901.10it/s]\n"
     ]
    },
    {
     "name": "stdout",
     "output_type": "stream",
     "text": [
      "Finished processing frames. Creating gif...\n"
     ]
    },
    {
     "name": "stderr",
     "output_type": "stream",
     "text": [
      "100%|██████████| 246/246 [01:48<00:00,  2.27it/s]\n"
     ]
    }
   ],
   "source": [
    "frames = []\n",
    "\n",
    "for tick in tqdm(dem.ticks.filter(pl.col(\"round_num\") == 1)[\"tick\"].unique().to_list()[::32]):\n",
    "    frame_df = dem.ticks.filter(pl.col(\"tick\") == tick)\n",
    "    frame_df = frame_df[\n",
    "        [\"X\", \"Y\", \"Z\", \"health\", \"armor\", \"pitch\", \"yaw\", \"side\", \"name\"]\n",
    "    ]\n",
    "\n",
    "    points = []\n",
    "    point_settings = []\n",
    "\n",
    "    for row in frame_df.iter_rows(named=True):\n",
    "        points.append((row[\"X\"], row[\"Y\"], row[\"Z\"]))\n",
    "\n",
    "        # Determine team and corresponding settings\n",
    "        settings = PLOT_SETTINGS[row[\"side\"]].copy()\n",
    "\n",
    "        # Add additional settings\n",
    "        settings.update(\n",
    "            {\n",
    "                \"hp\": row[\"health\"],\n",
    "                \"armor\": row[\"armor\"],\n",
    "                \"direction\": (row[\"pitch\"], row[\"yaw\"]),\n",
    "                \"label\": row[\"name\"],\n",
    "            }\n",
    "        )\n",
    "\n",
    "        point_settings.append(settings)\n",
    "\n",
    "    frames.append({\"points\": points, \"point_settings\": point_settings})\n",
    "\n",
    "print(\"Finished processing frames. Creating gif...\")\n",
    "gif(\"de_inferno\", frames, \"de_inferno.gif\", duration=100)"
   ]
  }
 ],
 "metadata": {
  "kernelspec": {
   "display_name": "Python 3",
   "language": "python",
   "name": "python3"
  },
  "language_info": {
   "codemirror_mode": {
    "name": "ipython",
    "version": 3
   },
   "file_extension": ".py",
   "mimetype": "text/x-python",
   "name": "python",
   "nbconvert_exporter": "python",
   "pygments_lexer": "ipython3",
   "version": "3.12.9"
  }
 },
 "nbformat": 4,
 "nbformat_minor": 2
}
