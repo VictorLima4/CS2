{
 "cells": [
  {
   "cell_type": "code",
   "execution_count": 1,
   "metadata": {},
   "outputs": [],
   "source": [
    "# Imports\n",
    "import pandas as pd\n",
    "import numpy as np\n",
    "import os\n",
    "import zipfile\n",
    "from awpy import Demo\n",
    "import awpy.plot\n",
    "import awpy.demo\n",
    "import awpy.stats\n",
    "import awpy as awpy"
   ]
  },
  {
   "cell_type": "code",
   "execution_count": 2,
   "metadata": {},
   "outputs": [],
   "source": [
    "folder_path = r'C:\\Users\\bayli\\Documents\\Git Projects\\test_demos'\n",
    "\n",
    "df_flashes = pd.DataFrame()\n",
    "df_he = pd.DataFrame()\n",
    "df_infernos = pd.DataFrame()\n",
    "df_smoke = pd.DataFrame()"
   ]
  },
  {
   "cell_type": "code",
   "execution_count": 3,
   "metadata": {},
   "outputs": [],
   "source": [
    "file_path = r'C:\\Users\\bayli\\Documents\\Git Projects\\test_demos\\natus-vincere-vs-faze-m1-inferno.dem'\n",
    "dem = Demo(file_path)"
   ]
  },
  {
   "cell_type": "code",
   "execution_count": 5,
   "metadata": {},
   "outputs": [],
   "source": [
    "df = dem.ticks\n",
    "df.to_csv('test.csv')"
   ]
  },
  {
   "cell_type": "code",
   "execution_count": null,
   "metadata": {},
   "outputs": [],
   "source": [
    "df_smokes = dem.events['smokegrenade_detonate']\n",
    "#df_smokes.to_csv('df_smokes.csv')"
   ]
  },
  {
   "cell_type": "code",
   "execution_count": null,
   "metadata": {},
   "outputs": [],
   "source": [
    "df_smokes_pos = df_smokes[df_smokes['user_team_name'] == 'CT'][['x', 'y', 'z', 'user_name']]\n",
    "smokes_pos = df_smokes_pos.values.tolist()"
   ]
  },
  {
   "cell_type": "code",
   "execution_count": null,
   "metadata": {},
   "outputs": [],
   "source": [
    "awpy.plot.heatmap('de_inferno',\n",
    "                  smokes_pos,\n",
    "                  'hist',\n",
    "                  size=20)"
   ]
  },
  {
   "cell_type": "code",
   "execution_count": null,
   "metadata": {},
   "outputs": [
    {
     "name": "stderr",
     "output_type": "stream",
     "text": [
      "100%|██████████| 511/511 [00:02<00:00, 216.16it/s]\n"
     ]
    },
    {
     "name": "stdout",
     "output_type": "stream",
     "text": [
      "Finished processing frames. Creating gif...\n"
     ]
    },
    {
     "name": "stderr",
     "output_type": "stream",
     "text": [
      "100%|██████████| 511/511 [04:42<00:00,  1.81it/s]\n"
     ]
    },
    {
     "ename": "",
     "evalue": "",
     "output_type": "error",
     "traceback": [
      "\u001b[1;31mThe Kernel crashed while executing code in the current cell or a previous cell. \n",
      "\u001b[1;31mPlease review the code in the cell(s) to identify a possible cause of the failure. \n",
      "\u001b[1;31mClick <a href='https://aka.ms/vscodeJupyterKernelCrash'>here</a> for more info. \n",
      "\u001b[1;31mView Jupyter <a href='command:jupyter.viewOutput'>log</a> for further details."
     ]
    }
   ],
   "source": [
    "from awpy.plot import gif, PLOT_SETTINGS\n",
    "from tqdm import tqdm\n",
    "\n",
    "frames = []\n",
    "\n",
    "for tick in tqdm(dem.ticks[dem.ticks[\"round\"] == 1].tick.values[::128]):\n",
    "    frame_df = dem.ticks[dem.ticks[\"tick\"] == tick]\n",
    "    frame_df = frame_df[\n",
    "        [\"X\", \"Y\", \"Z\", \"health\", \"armor_value\", \"pitch\", \"yaw\", \"team_name\", \"name\"]\n",
    "    ]\n",
    "\n",
    "    points = []\n",
    "    point_settings = []\n",
    "\n",
    "    for _, row in frame_df.iterrows():\n",
    "        points.append((row[\"X\"], row[\"Y\"], row[\"Z\"]))\n",
    "\n",
    "        # Determine team and corresponding settings\n",
    "        team = \"ct\" if row[\"team_name\"] == \"CT\" else \"t\"\n",
    "        settings = PLOT_SETTINGS[team].copy()\n",
    "\n",
    "        # Add additional settings\n",
    "        settings.update(\n",
    "            {\n",
    "                \"hp\": row[\"health\"],\n",
    "                \"armor\": row[\"armor_value\"],\n",
    "                \"direction\": (row[\"pitch\"], row[\"yaw\"]),\n",
    "                \"label\": row[\"name\"],\n",
    "            }\n",
    "        )\n",
    "\n",
    "        point_settings.append(settings)\n",
    "\n",
    "    frames.append({\"points\": points, \"point_settings\": point_settings})\n",
    "\n",
    "print(\"Finished processing frames. Creating gif...\")\n",
    "gif(\"de_inferno\", frames, \"de_inferno.gif\", duration=100)"
   ]
  }
 ],
 "metadata": {
  "kernelspec": {
   "display_name": "Python 3",
   "language": "python",
   "name": "python3"
  },
  "language_info": {
   "codemirror_mode": {
    "name": "ipython",
    "version": 3
   },
   "file_extension": ".py",
   "mimetype": "text/x-python",
   "name": "python",
   "nbconvert_exporter": "python",
   "pygments_lexer": "ipython3",
   "version": "3.10.4"
  }
 },
 "nbformat": 4,
 "nbformat_minor": 2
}
