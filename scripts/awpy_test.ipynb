{
 "cells": [
  {
   "cell_type": "code",
   "execution_count": 1,
   "metadata": {},
   "outputs": [],
   "source": [
    "# Imports\n",
    "import pandas as pd\n",
    "import numpy as np\n",
    "import os\n",
    "import zipfile\n",
    "from awpy import Demo\n",
    "from pathlib import Path"
   ]
  },
  {
   "cell_type": "code",
   "execution_count": null,
   "metadata": {},
   "outputs": [],
   "source": [
    "folder_path = r'C:\\Users\\bayli\\Documents\\Git Projects\\test_demos'\n",
    "\n",
    "df_flashes = pd.DataFrame()\n",
    "df_he = pd.DataFrame()\n",
    "df_infernos = pd.DataFrame()\n",
    "df_smoke = pd.DataFrame()"
   ]
  },
  {
   "cell_type": "code",
   "execution_count": null,
   "metadata": {},
   "outputs": [],
   "source": [
    "for file_name in os.listdir(folder_path):\n",
    "    if file_name.endswith('.dem'):\n",
    "\n",
    "        file_path = os.path.join(folder_path, file_name)\n",
    "        dem = Demo(file_path)\n",
    "\n",
    "        this_file_flashes = dem.events['flashbang_detonate']\n",
    "        this_file_he = dem.events['hegrenade_detonate']\n",
    "        this_file_infernos = dem.events['inferno_startburn']\n",
    "        this_file_smoke = dem.events['smokegrenade_detonate']\n",
    "\n",
    "        df_flashes = pd.concat([df_flashes,this_file_flashes], ignore_index=True)\n",
    "        df_he = pd.concat([df_he,this_file_he], ignore_index=True)\n",
    "        df_infernos = pd.concat([df_infernos,this_file_infernos], ignore_index=True)\n",
    "        df_smoke = pd.concat([df_smoke,this_file_smoke], ignore_index=True)"
   ]
  },
  {
   "cell_type": "code",
   "execution_count": null,
   "metadata": {},
   "outputs": [],
   "source": [
    "for event_name, event in dem.events.items():\n",
    "    print(f\"{event_name}: {event.shape[0]} rows x {event.shape[1]} columns\")"
   ]
  },
  {
   "cell_type": "code",
   "execution_count": null,
   "metadata": {},
   "outputs": [],
   "source": [
    "df_all_flashes = df_flashes.groupby('user_steamid').agg(\n",
    "    flahes_thrown=('user_steamid', 'size'),\n",
    "    CT_flahes_thrown=('user_team_name', lambda x: (x == 'CT').sum()),\n",
    "    T_flahes_thrown=('user_team_name', lambda x: (x == 'TERRORIST').sum()),\n",
    "    flahes_thrown_in_pistol_round=('round', lambda x: ((x == 1) | (x == 13)).sum()),\n",
    ").reset_index()\n",
    "df_all_flashes.rename(columns={'user_steamid': 'steam_id'}, inplace=True)\n",
    "df_all_flashes['steam_id'] = df_all_flashes['steam_id'].astype('int64')\n",
    "\n",
    "df_all_he = df_he.groupby('user_steamid').agg(\n",
    "    he_thrown=('user_steamid', 'size'),\n",
    "    CT_he_thrown=('user_team_name', lambda x: (x == 'CT').sum()),\n",
    "    T_he_thrown=('user_team_name', lambda x: (x == 'TERRORIST').sum()),\n",
    "    he_thrown_in_pistol_round=('round', lambda x: ((x == 1) | (x == 13)).sum())\n",
    ").reset_index()\n",
    "df_all_he.rename(columns={'user_steamid': 'steam_id'}, inplace=True)\n",
    "df_all_he['steam_id'] = df_all_he['steam_id'].astype('int64')\n",
    "\n",
    "df_all_infernos = df_infernos.groupby('user_steamid').agg(\n",
    "    infernos_thrown=('user_steamid', 'size'),\n",
    "    CT_infernos_thrown=('user_team_name', lambda x: (x == 'CT').sum()),\n",
    "    T_infernos_thrown=('user_team_name', lambda x: (x == 'TERRORIST').sum()),\n",
    "    infernos_thrown_in_pistol_round=('round', lambda x: ((x == 1) | (x == 13)).sum())\n",
    ").reset_index()\n",
    "df_all_infernos.rename(columns={'user_steamid': 'steam_id'}, inplace=True)\n",
    "df_all_infernos['steam_id'] = df_all_infernos['steam_id'].astype('int64')\n",
    "\n",
    "df_all_smokes = df_smoke.groupby('user_steamid').agg(\n",
    "    smokes_thrown=('user_steamid', 'size'),\n",
    "    CT_smokes_thrown=('user_team_name', lambda x: (x == 'CT').sum()),\n",
    "    T_smokes_thrown=('user_team_name', lambda x: (x == 'TERRORIST').sum()),\n",
    "    smakes_thrown_in_pistol_round=('round', lambda x: ((x == 1) | (x == 13)).sum())\n",
    ").reset_index()\n",
    "df_all_smokes.rename(columns={'user_steamid': 'steam_id'}, inplace=True)\n",
    "df_all_smokes['steam_id'] = df_all_smokes['steam_id'].astype('int64')\n"
   ]
  },
  {
   "cell_type": "code",
   "execution_count": null,
   "metadata": {},
   "outputs": [],
   "source": [
    "df_all_flashes.info()\n"
   ]
  }
 ],
 "metadata": {
  "kernelspec": {
   "display_name": "Python 3",
   "language": "python",
   "name": "python3"
  },
  "language_info": {
   "codemirror_mode": {
    "name": "ipython",
    "version": 3
   },
   "file_extension": ".py",
   "mimetype": "text/x-python",
   "name": "python",
   "nbconvert_exporter": "python",
   "pygments_lexer": "ipython3",
   "version": "3.10.4"
  }
 },
 "nbformat": 4,
 "nbformat_minor": 2
}
